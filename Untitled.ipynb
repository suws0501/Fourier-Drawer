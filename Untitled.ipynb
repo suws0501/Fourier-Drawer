{
 "cells": [
  {
   "cell_type": "code",
   "execution_count": 1,
   "id": "693b6051-7c8f-435e-befb-98d4d2710809",
   "metadata": {},
   "outputs": [],
   "source": [
    "import math\n",
    "import cv2\n",
    "import numpy as np\n",
    "import matplotlib.pyplot as plt\n",
    "from collections import defaultdict\n",
    "from utilities.functions import *\n",
    "\n",
    "dic = defaultdict(set)\n",
    "dic[(1, 2)].add((2, 3))\n",
    "img = cv2.imread(\"rmit_logo.jpg\")\n",
    "p = 1\n",
    "w = int(img.shape[1] * p)\n",
    "h = int(img.shape[0] * p)\n",
    "img = cv2.resize(img, (w,h))\n",
    "edge = cv2.Canny(img,100,200)\n",
    "cv2.imshow(\"\", edge)\n",
    "cv2.waitKey(0)\n",
    "x, y, pts = create_point_list(edge)\n",
    "\n",
    "# Combine real and imaginary parts to create a complex array\n",
    "#complex_array = np.vectorize(complex)(x, y)\n",
    "\n",
    "\n",
    "adj_matrix = create_adj_matrix(pts, 1, 2)\n",
    "dict_items = iter(adj_matrix.items())\n",
    "\n",
    "# Get the first key-value pair\n",
    "first_item = next(dict_items)\n",
    "\n",
    "# print(first_item[0])\n",
    "# print(adj_matrix)\n",
    "\n",
    "node_stack = dfs(adj_matrix, first_item[0])\n",
    "real, imaginary = [node[0] for node in node_stack], [node[1] for node in node_stack]\n",
    "# plt.plot(real, imaginary)\n",
    "# plt.show()\n",
    "complex_array = np.vectorize(complex)(real, imaginary)\n",
    "#print(complex_array[:2])\n",
    "fourier_array = np.fft.fft(complex_array)\n",
    "###############################\n",
    "sample_freq = 50\n",
    "N = len(complex_array)\n",
    "T = 1/sample_freq\n",
    "t = np.linspace(0.0, N*T, N)\n",
    "tf = np.linspace(0.0, 1.0/T, N)"
   ]
  },
  {
   "cell_type": "code",
   "execution_count": 2,
   "id": "23233192-9df5-4775-9e79-b90f559a4151",
   "metadata": {},
   "outputs": [
    {
     "name": "stdout",
     "output_type": "stream",
     "text": [
      "[    0     1    -1 ... -1584  1585 -1585]\n",
      "[ 2.48374645e+02+2.73791233e+02j -3.59461935e-01+4.58964572e+00j\n",
      "  3.94408564e+00-2.28624114e+02j ... -1.89263082e-02+1.66555151e-02j\n",
      "  3.57444116e-02+5.97262386e-02j -8.88773666e-03+7.75301876e-02j]\n",
      "[ 0.83403509  1.64895697  1.34273428 ...  1.50850477  2.88308434\n",
      " -1.55354664]\n"
     ]
    }
   ],
   "source": [
    "normalized_array = 1/N * fourier_array\n",
    "\n",
    "reordered_array, index = reorder_fft_array(normalized_array)\n",
    "print(index)\n",
    "print(reordered_array)\n",
    "theta = np.angle(normalized_array)\n",
    "print(theta)"
   ]
  },
  {
   "cell_type": "code",
   "execution_count": 3,
   "id": "2716679e-0a34-4037-95c7-da787a36b03f",
   "metadata": {},
   "outputs": [],
   "source": [
    "x_num = reordered_array.real\n",
    "y_num = reordered_array.imag\n",
    "\n",
    "omega = 2*np.pi*index"
   ]
  },
  {
   "cell_type": "code",
   "execution_count": 1,
   "id": "dfa98492-50c1-4fd3-9cf2-e9e2fb738af2",
   "metadata": {},
   "outputs": [
    {
     "ename": "NameError",
     "evalue": "name 'np' is not defined",
     "output_type": "error",
     "traceback": [
      "\u001b[1;31m---------------------------------------------------------------------------\u001b[0m",
      "\u001b[1;31mNameError\u001b[0m                                 Traceback (most recent call last)",
      "Cell \u001b[1;32mIn[1], line 3\u001b[0m\n\u001b[0;32m      1\u001b[0m \u001b[38;5;66;03m# Draw machine\u001b[39;00m\n\u001b[0;32m      2\u001b[0m ratio \u001b[38;5;241m=\u001b[39m \u001b[38;5;241m1\u001b[39m\n\u001b[1;32m----> 3\u001b[0m time_array \u001b[38;5;241m=\u001b[39m \u001b[43mnp\u001b[49m\u001b[38;5;241m.\u001b[39mlinspace(\u001b[38;5;241m0\u001b[39m,\u001b[38;5;241m5\u001b[39m,\u001b[38;5;241m1000\u001b[39m)\n\u001b[0;32m      4\u001b[0m \u001b[38;5;28;01mfor\u001b[39;00m time \u001b[38;5;129;01min\u001b[39;00m time_array:\n\u001b[0;32m      5\u001b[0m     canvas \u001b[38;5;241m=\u001b[39m np\u001b[38;5;241m.\u001b[39mzeros((h\u001b[38;5;241m*\u001b[39mratio, w\u001b[38;5;241m*\u001b[39mratio, \u001b[38;5;241m3\u001b[39m), dtype\u001b[38;5;241m=\u001b[39mnp\u001b[38;5;241m.\u001b[39muint8)\n",
      "\u001b[1;31mNameError\u001b[0m: name 'np' is not defined"
     ]
    }
   ],
   "source": [
    "# Draw machine\n",
    "ratio = 1\n",
    "time_array = np.linspace(0,5,1000)\n",
    "for time in time_array:\n",
    "    canvas = np.zeros((h*ratio, w*ratio, 3), dtype=np.uint8)\n",
    "    X = 0\n",
    "    Y = 0\n",
    "    for i in range(len(index)):\n",
    "        radius = abs(reordered_array[i])\n",
    "        prev_X = X\n",
    "        prev_Y = Y\n",
    "        X = X + radius * np.cos(theta[i] + omega[i] * time)\n",
    "        Y = Y + radius * np.sin(theta[i] + omega[i] * time)\n",
    "        canvas = cv2.line(canvas, (int(prev_X), int(prev_Y)), (int(X), int(Y)), (225, 225, 225), 1)\n",
    "    cv2.imshow(\"\", canvas)\n",
    "    if cv2.waitKey(1) & 0xFF == ord('q'):\n",
    "        break"
   ]
  },
  {
   "cell_type": "code",
   "execution_count": null,
   "id": "8c2980cb-c172-433a-8a53-1938f83f0c73",
   "metadata": {},
   "outputs": [],
   "source": []
  },
  {
   "cell_type": "code",
   "execution_count": null,
   "id": "e369ba92-4597-4e16-a800-7e35180e16f1",
   "metadata": {},
   "outputs": [],
   "source": []
  }
 ],
 "metadata": {
  "kernelspec": {
   "display_name": "Python 3 (ipykernel)",
   "language": "python",
   "name": "python3"
  },
  "language_info": {
   "codemirror_mode": {
    "name": "ipython",
    "version": 3
   },
   "file_extension": ".py",
   "mimetype": "text/x-python",
   "name": "python",
   "nbconvert_exporter": "python",
   "pygments_lexer": "ipython3",
   "version": "3.8.10"
  }
 },
 "nbformat": 4,
 "nbformat_minor": 5
}
